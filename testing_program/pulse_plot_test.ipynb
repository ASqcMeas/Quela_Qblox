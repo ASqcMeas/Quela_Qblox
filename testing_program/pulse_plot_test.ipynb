{
 "cells": [
  {
   "cell_type": "code",
   "execution_count": 1,
   "metadata": {},
   "outputs": [],
   "source": [
    "from support import *\n",
    "\n",
    "#Initial setup\n",
    "meas_datadir = './Data/5Qidle'\n",
    "dh.set_datadir(meas_datadir)\n",
    "\n",
    "measurement_control = MeasurementControl(\"measurement_control\")\n",
    "instrument_coordinator = InstrumentCoordinator(\"instrument_coordinator\")\n",
    "\n",
    "#Device setup\n",
    "single_qubit_device = QuantumDevice(\"single_qubit_device\")\n",
    "single_qubit_device.instr_instrument_coordinator(instrument_coordinator.name)\n",
    "\n",
    "q0 = BasicTransmonElement(\"q0\")\n",
    "single_qubit_device.add_element(q0)\n",
    "\n",
    "#Cluster setup\n",
    "cluster = Cluster(\n",
    "    \"cluster\",\n",
    "    dummy_cfg={\n",
    "        1: ClusterType.CLUSTER_QRM,\n",
    "        2: ClusterType.CLUSTER_QCM_RF,\n",
    "    },\n",
    ")\n",
    "ic_cluster = ClusterComponent(cluster)\n",
    "instrument_coordinator.add_component(ic_cluster)\n",
    "\n",
    "hardware_comp_cfg = {\n",
    "    \"config_type\": \"quantify_scheduler.backends.qblox_backend.QbloxHardwareCompilationConfig\",\n",
    "    \"hardware_description\": {\n",
    "        f\"{cluster.name}\": {\n",
    "            \"instrument_type\": \"Cluster\",\n",
    "            \"ref\": \"internal\",\n",
    "            \"modules\": {\n",
    "                \"1\": {\n",
    "                    \"instrument_type\": \"QRM_RF\"\n",
    "                },\n",
    "                \"2\": {\n",
    "                    \"instrument_type\": \"QCM_RF\"\n",
    "                },\n",
    "            },\n",
    "        },\n",
    "    },\n",
    "    \"hardware_options\": {\n",
    "        \"modulation_frequencies\": {\n",
    "            \"q0:res-q0.ro\": {\"lo_freq\": 5.9e9},\n",
    "            \"q0:mw-q0.01\": {\"lo_freq\": 3.9e9},\n",
    "        },\n",
    "    },\n",
    "    \"connectivity\": {\n",
    "        \"graph\": [\n",
    "            (f\"{cluster.name}.{cluster.module1.name.split('_')[-1]}.complex_output_0\", \"q0:res\"),\n",
    "            (f\"{cluster.name}.{cluster.module2.name.split('_')[-1]}.complex_output_0\", \"q0:mw\")\n",
    "        ]\n",
    "    },\n",
    "}\n",
    "# Tie hardware config to device\n",
    "single_qubit_device.hardware_config(hardware_comp_cfg)\n"
   ]
  },
  {
   "cell_type": "code",
   "execution_count": 27,
   "metadata": {},
   "outputs": [],
   "source": [
    "\n",
    "q0.measure.pulse_amp(0.15)\n",
    "q0.clock_freqs.readout(6e9)\n",
    "q0.clock_freqs.f01(4e9)\n",
    "q0.rxy.amp180(0.1)\n",
    "\n",
    "q0.reset.duration(100e-6)\n",
    "q0.measure.pulse_duration(10e-6)\n",
    "q0.measure.acq_delay(100e-9)\n",
    "q0.measure.integration_time(1.5e-6)\n"
   ]
  },
  {
   "cell_type": "code",
   "execution_count": 3,
   "metadata": {},
   "outputs": [],
   "source": [
    "def pulse_preview(quantum_device:QuantumDevice,sche_func:Schedule, sche_kwargs:dict, **kwargs):\n",
    "    \n",
    "    pio.renderers.default='browser'\n",
    "    device_compiler = SerialCompiler(\"Device compiler\", quantum_device)\n",
    "    comp_sched = device_compiler.compile(\n",
    "        sche_func(**sche_kwargs)\n",
    "    )\n",
    "    sche_func(**sche_kwargs).plot_circuit_diagram()\n",
    "    comp_sched.plot_pulse_diagram(plot_backend=\"plotly\",**kwargs).show()"
   ]
  },
  {
   "cell_type": "code",
   "execution_count": 4,
   "metadata": {},
   "outputs": [
    {
     "data": {
      "image/png": "[encoded data removed]",
      "text/plain": [
       "<Figure size 1000x100 with 1 Axes>"
      ]
     },
     "metadata": {
      "needs_background": "light"
     },
     "output_type": "display_data"
    }
   ],
   "source": [
    "from quantify_scheduler.operations.gate_library import X\n",
    "\n",
    "def t1_sched(times, repetitions=1):\n",
    "    schedule = Schedule(\"T1\", repetitions)\n",
    "    for i, tau in enumerate(times):\n",
    "        schedule.add(Reset(\"q0\"), label=f\"Reset {i}\")\n",
    "        schedule.add(X(\"q0\"), label=f\"pi {i}\")\n",
    "        schedule.add(\n",
    "            Measure(\"q0\", acq_index=i),\n",
    "            ref_pt=\"start\",\n",
    "            rel_time=tau,\n",
    "            label=f\"Measurement {i}\",\n",
    "        )\n",
    "    return schedule\n",
    "\n",
    "t1_schedule = t1_sched\n",
    "t1_sched_kwargs = dict(\n",
    "    times = [1e-6],\n",
    ")\n",
    "\n",
    "pulse_preview(single_qubit_device, t1_schedule, t1_sched_kwargs)"
   ]
  },
  {
   "cell_type": "code",
   "execution_count": 13,
   "metadata": {},
   "outputs": [
    {
     "data": {
      "image/png": "[encoded data removed]",
      "text/plain": [
       "<Figure size 1000x100 with 1 Axes>"
      ]
     },
     "metadata": {
      "needs_background": "light"
     },
     "output_type": "display_data"
    }
   ],
   "source": [
    "freq = np.array([6e9])\n",
    "\n",
    "res_sched = heterodyne_spec_sched_nco\n",
    "spec_sched_kwargs = dict(    # *** Try to draw the prospective wave as a plot for a great check of the outputting pulse. And turn them into parameters\n",
    "    pulse_amp=0.1,           # *** Check the unit of amplitude, only scale or volt # Can be set as a parameter\n",
    "    pulse_duration=2e-6,     # *** Can be set as a parameter\n",
    "    frequencies=freq,\n",
    "    acquisition_delay=80e-9,# *** Can be set as a parameter\n",
    "    integration_time=1.5e-6,   # *** Can be set as a parameter\n",
    "    port=q0.ports.readout(),\n",
    "    clock=q0.name + \".ro\",\n",
    "    init_duration=10e-6,     # *** Can be set as a parameter\n",
    ")\n",
    "\n",
    "pulse_preview(single_qubit_device, res_sched, spec_sched_kwargs)"
   ]
  },
  {
   "cell_type": "code",
   "execution_count": 28,
   "metadata": {},
   "outputs": [
    {
     "data": {
      "image/png": "[encoded data removed]",
      "text/plain": [
       "<Figure size 1000x200 with 1 Axes>"
      ]
     },
     "metadata": {
      "needs_background": "light"
     },
     "output_type": "display_data"
    }
   ],
   "source": [
    "freq = np.array([4e9])\n",
    "def two_tone_spec_sched_nco(\n",
    "    qubit_name: str,\n",
    "    spec_pulse_amp: float,\n",
    "    spec_pulse_duration: float,\n",
    "    spec_pulse_port: str,\n",
    "    spec_pulse_clock: str,\n",
    "    spec_pulse_frequencies: np.ndarray,\n",
    "    repetitions: int = 1,\n",
    ") -> Schedule:\n",
    "    \"\"\"\n",
    "    Generate a batched schedule for performing fast two-tone spectroscopy using the\n",
    "    `SetClockFrequency` operation for doing an NCO sweep.\n",
    "\n",
    "    Parameters\n",
    "    ----------\n",
    "    spec_pulse_amp\n",
    "        Amplitude of the spectroscopy pulse in Volt.\n",
    "    spec_pulse_duration\n",
    "        Duration of the spectroscopy pulse in seconds.\n",
    "    spec_pulse_port\n",
    "        Location on the device where the spectroscopy pulse should be applied.\n",
    "    spec_pulse_clock\n",
    "        Reference clock used to track the spectroscopy frequency.\n",
    "    spec_pulse_frequencies\n",
    "        Sample frequencies for the spectroscopy pulse in Hertz.\n",
    "    repetitions\n",
    "        The amount of times the Schedule will be repeated.\n",
    "    \"\"\"\n",
    "    sched = Schedule(\"two-tone\", repetitions)\n",
    "    sched.add_resource(ClockResource(name=spec_pulse_clock, freq=spec_pulse_frequencies.flat[0]))\n",
    "\n",
    "    for acq_idx, spec_pulse_freq in enumerate(spec_pulse_frequencies):\n",
    "        sched.add(Reset(qubit_name))\n",
    "        sched.add(SetClockFrequency(clock=spec_pulse_clock, clock_freq_new=spec_pulse_freq))\n",
    "        sched.add(\n",
    "            SquarePulse(\n",
    "                duration=spec_pulse_duration,\n",
    "                amp=spec_pulse_amp,\n",
    "                port=spec_pulse_port,\n",
    "                clock=spec_pulse_clock,\n",
    "            )\n",
    "        )\n",
    "        sched.add(Measure(qubit_name, acq_index=acq_idx))\n",
    "\n",
    "    return sched\n",
    "\n",
    "two_tone_sched = two_tone_spec_sched_nco\n",
    "qubit_spec_sched_kwargs = dict(\n",
    "            qubit_name=q0.name,\n",
    "            spec_pulse_amp=0.1,\n",
    "            spec_pulse_duration=2e-5,\n",
    "            spec_pulse_port=q0.ports.microwave(),\n",
    "            spec_pulse_clock=q0.name + \".01\",\n",
    "            spec_pulse_frequencies=freq\n",
    "        )\n",
    "\n",
    "pulse_preview(single_qubit_device, two_tone_sched, qubit_spec_sched_kwargs)"
   ]
  }
 ],
 "metadata": {
  "kernelspec": {
   "display_name": "quantify-env",
   "language": "python",
   "name": "python3"
  },
  "language_info": {
   "codemirror_mode": {
    "name": "ipython",
    "version": 3
   },
   "file_extension": ".py",
   "mimetype": "text/x-python",
   "name": "python",
   "nbconvert_exporter": "python",
   "pygments_lexer": "ipython3",
   "version": "3.9.18"
  },
  "orig_nbformat": 4,
  "vscode": {
   "interpreter": {
    "hash": "89cd5e46bc7bdf6949db6094f39a3e2c5522d880feeea65ff97926f76b70bcb9"
   }
  }
 },
 "nbformat": 4,
 "nbformat_minor": 2
}
